{
 "cells": [
  {
   "cell_type": "code",
   "execution_count": 11,
   "id": "e6bc895c",
   "metadata": {},
   "outputs": [],
   "source": [
    "import os\n",
    "import requests\n",
    "from bs4 import BeautifulSoup\n"
   ]
  },
  {
   "cell_type": "code",
   "execution_count": 12,
   "id": "9b49e2f1",
   "metadata": {},
   "outputs": [],
   "source": [
    "url = \"https://medium.com/@pattyalcivar/cheated-at-the-fiery-flamingo-ultra-run-68fc2ca2b803\"\n",
    "response = requests.get(url)\n"
   ]
  },
  {
   "cell_type": "code",
   "execution_count": 13,
   "id": "be451dcf",
   "metadata": {},
   "outputs": [],
   "source": [
    "if response.status_code == 200:\n",
    "    soup = BeautifulSoup(response.content, 'html.parser')\n",
    "    paragraphs = soup.find_all('p')\n",
    "    article_text = \"\\n\".join([para.get_text() for para in paragraphs])\n"
   ]
  },
  {
   "cell_type": "code",
   "execution_count": 14,
   "id": "2e04b42b",
   "metadata": {},
   "outputs": [
    {
     "name": "stdout",
     "output_type": "stream",
     "text": [
      "Article text saved to scraped_articles\\medium_article.txt\n"
     ]
    }
   ],
   "source": [
    "if not os.path.exists('scraped_articles'):\n",
    "    os.makedirs('scraped_articles')\n",
    "\n",
    "file_path = os.path.join('scraped_articles', 'medium_article.txt')\n",
    "with open(file_path, 'w', encoding='utf-8') as file:\n",
    "    file.write(article_text)\n",
    "print(f\"Article text saved to {file_path}\")\n"
   ]
  }
 ],
 "metadata": {
  "kernelspec": {
   "display_name": "Python 3 (ipykernel)",
   "language": "python",
   "name": "python3"
  },
  "language_info": {
   "codemirror_mode": {
    "name": "ipython",
    "version": 3
   },
   "file_extension": ".py",
   "mimetype": "text/x-python",
   "name": "python",
   "nbconvert_exporter": "python",
   "pygments_lexer": "ipython3",
   "version": "3.10.9"
  }
 },
 "nbformat": 4,
 "nbformat_minor": 5
}
